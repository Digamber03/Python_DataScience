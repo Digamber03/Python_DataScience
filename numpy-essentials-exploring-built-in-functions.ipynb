{
 "cells": [
  {
   "cell_type": "code",
   "execution_count": 1,
   "id": "4b3dee8d",
   "metadata": {
    "_cell_guid": "b1076dfc-b9ad-4769-8c92-a6c4dae69d19",
    "_uuid": "8f2839f25d086af736a60e9eeb907d3b93b6e0e5",
    "execution": {
     "iopub.execute_input": "2024-05-24T06:46:00.834669Z",
     "iopub.status.busy": "2024-05-24T06:46:00.834294Z",
     "iopub.status.idle": "2024-05-24T06:46:01.561125Z",
     "shell.execute_reply": "2024-05-24T06:46:01.560062Z"
    },
    "papermill": {
     "duration": 0.739269,
     "end_time": "2024-05-24T06:46:01.563636",
     "exception": false,
     "start_time": "2024-05-24T06:46:00.824367",
     "status": "completed"
    },
    "tags": []
   },
   "outputs": [],
   "source": [
    "\n",
    "import numpy as np # linear algebra\n",
    "import pandas as pd # data processing, CSV file I/O (e.g. pd.read_csv)\n",
    "\n",
    "\n",
    "# For example, running this (by clicking run or pressing Shift+Enter) will list all files under the input directory\n",
    "\n",
    "import os\n",
    "for dirname, _, filenames in os.walk('/kaggle/input'):\n",
    "    for filename in filenames:\n",
    "        print(os.path.join(dirname, filename))\n",
    "\n",
    "# You can write up to 20GB to the current directory (/kaggle/working/) that gets preserved as output when you create a version using \"Save & Run All\" \n",
    "# You can also write temporary files to /kaggle/temp/, but they won't be saved outside of the current session"
   ]
  },
  {
   "cell_type": "code",
   "execution_count": 2,
   "id": "ddef4852",
   "metadata": {
    "execution": {
     "iopub.execute_input": "2024-05-24T06:46:01.582937Z",
     "iopub.status.busy": "2024-05-24T06:46:01.582097Z",
     "iopub.status.idle": "2024-05-24T06:46:01.591097Z",
     "shell.execute_reply": "2024-05-24T06:46:01.590181Z"
    },
    "papermill": {
     "duration": 0.021074,
     "end_time": "2024-05-24T06:46:01.593473",
     "exception": false,
     "start_time": "2024-05-24T06:46:01.572399",
     "status": "completed"
    },
    "tags": []
   },
   "outputs": [
    {
     "data": {
      "text/plain": [
       "array([11, 15, 14,  8])"
      ]
     },
     "execution_count": 2,
     "metadata": {},
     "output_type": "execute_result"
    }
   ],
   "source": [
    "a=np.random.randint(1,20,4)   #here 1,10 is the range means give me 4 numbers having values between 1-20\n",
    "a"
   ]
  },
  {
   "cell_type": "code",
   "execution_count": 3,
   "id": "643c7636",
   "metadata": {
    "execution": {
     "iopub.execute_input": "2024-05-24T06:46:01.612643Z",
     "iopub.status.busy": "2024-05-24T06:46:01.612346Z",
     "iopub.status.idle": "2024-05-24T06:46:01.619075Z",
     "shell.execute_reply": "2024-05-24T06:46:01.618183Z"
    },
    "papermill": {
     "duration": 0.018343,
     "end_time": "2024-05-24T06:46:01.621101",
     "exception": false,
     "start_time": "2024-05-24T06:46:01.602758",
     "status": "completed"
    },
    "tags": []
   },
   "outputs": [
    {
     "data": {
      "text/plain": [
       "array([[71, 36],\n",
       "       [67, 15],\n",
       "       [80, 14],\n",
       "       [31, 46],\n",
       "       [44, 37]])"
      ]
     },
     "execution_count": 3,
     "metadata": {},
     "output_type": "execute_result"
    }
   ],
   "source": [
    "b=np.random.randint(1,100,10).reshape(5,2) #HERE  it will give 5Rows and 2Coluns \n",
    "b"
   ]
  },
  {
   "cell_type": "code",
   "execution_count": 4,
   "id": "08f58187",
   "metadata": {
    "execution": {
     "iopub.execute_input": "2024-05-24T06:46:01.639008Z",
     "iopub.status.busy": "2024-05-24T06:46:01.638697Z",
     "iopub.status.idle": "2024-05-24T06:46:01.645030Z",
     "shell.execute_reply": "2024-05-24T06:46:01.644107Z"
    },
    "papermill": {
     "duration": 0.017917,
     "end_time": "2024-05-24T06:46:01.647440",
     "exception": false,
     "start_time": "2024-05-24T06:46:01.629523",
     "status": "completed"
    },
    "tags": []
   },
   "outputs": [
    {
     "data": {
      "text/plain": [
       "array([[5, 8, 5, 5, 3],\n",
       "       [8, 4, 3, 3, 8]])"
      ]
     },
     "execution_count": 4,
     "metadata": {},
     "output_type": "execute_result"
    }
   ],
   "source": [
    "c= np.random.randint(10,size=(2,5))  #Here we gives range upto 10 with dim 2,3\n",
    "c"
   ]
  },
  {
   "cell_type": "code",
   "execution_count": 5,
   "id": "3b765cab",
   "metadata": {
    "execution": {
     "iopub.execute_input": "2024-05-24T06:46:01.668473Z",
     "iopub.status.busy": "2024-05-24T06:46:01.667751Z",
     "iopub.status.idle": "2024-05-24T06:46:01.674894Z",
     "shell.execute_reply": "2024-05-24T06:46:01.673867Z"
    },
    "papermill": {
     "duration": 0.020204,
     "end_time": "2024-05-24T06:46:01.677168",
     "exception": false,
     "start_time": "2024-05-24T06:46:01.656964",
     "status": "completed"
    },
    "tags": []
   },
   "outputs": [
    {
     "data": {
      "text/plain": [
       "array([0.02919012, 0.38602547, 0.28261849, 0.03190032, 0.70344315,\n",
       "       0.12131771, 0.69307522, 0.91701161, 0.60776708, 0.8860532 ])"
      ]
     },
     "execution_count": 5,
     "metadata": {},
     "output_type": "execute_result"
    }
   ],
   "source": [
    "c =np.random.rand(10)\n",
    "c"
   ]
  },
  {
   "cell_type": "raw",
   "id": "e350e563",
   "metadata": {
    "execution": {
     "iopub.execute_input": "2024-04-23T06:57:41.443368Z",
     "iopub.status.busy": "2024-04-23T06:57:41.442498Z",
     "iopub.status.idle": "2024-04-23T06:57:41.450244Z",
     "shell.execute_reply": "2024-04-23T06:57:41.448978Z",
     "shell.execute_reply.started": "2024-04-23T06:57:41.443333Z"
    },
    "papermill": {
     "duration": 0.009423,
     "end_time": "2024-05-24T06:46:01.695687",
     "exception": false,
     "start_time": "2024-05-24T06:46:01.686264",
     "status": "completed"
    },
    "tags": []
   },
   "source": [
    "d= np.ones((2,4))\n",
    "d"
   ]
  },
  {
   "cell_type": "code",
   "execution_count": 6,
   "id": "f174d161",
   "metadata": {
    "execution": {
     "iopub.execute_input": "2024-05-24T06:46:01.715546Z",
     "iopub.status.busy": "2024-05-24T06:46:01.714907Z",
     "iopub.status.idle": "2024-05-24T06:46:01.721332Z",
     "shell.execute_reply": "2024-05-24T06:46:01.720425Z"
    },
    "papermill": {
     "duration": 0.019385,
     "end_time": "2024-05-24T06:46:01.723797",
     "exception": false,
     "start_time": "2024-05-24T06:46:01.704412",
     "status": "completed"
    },
    "tags": []
   },
   "outputs": [
    {
     "data": {
      "text/plain": [
       "array([[0., 0., 0., 0.],\n",
       "       [0., 0., 0., 0.],\n",
       "       [0., 0., 0., 0.]])"
      ]
     },
     "execution_count": 6,
     "metadata": {},
     "output_type": "execute_result"
    }
   ],
   "source": [
    "e=np.zeros((3,4))\n",
    "e"
   ]
  },
  {
   "cell_type": "code",
   "execution_count": 7,
   "id": "356af1db",
   "metadata": {
    "execution": {
     "iopub.execute_input": "2024-05-24T06:46:01.743814Z",
     "iopub.status.busy": "2024-05-24T06:46:01.743501Z",
     "iopub.status.idle": "2024-05-24T06:46:01.750273Z",
     "shell.execute_reply": "2024-05-24T06:46:01.749205Z"
    },
    "papermill": {
     "duration": 0.019387,
     "end_time": "2024-05-24T06:46:01.752457",
     "exception": false,
     "start_time": "2024-05-24T06:46:01.733070",
     "status": "completed"
    },
    "tags": []
   },
   "outputs": [
    {
     "data": {
      "text/plain": [
       "[[0.0, 0.0, 0.0, 0.0], [0.0, 0.0, 0.0, 0.0], [0.0, 0.0, 0.0, 0.0]]"
      ]
     },
     "execution_count": 7,
     "metadata": {},
     "output_type": "execute_result"
    }
   ],
   "source": [
    "#Converting Array to Python List\n",
    "f=e.tolist()\n",
    "f"
   ]
  },
  {
   "cell_type": "code",
   "execution_count": 8,
   "id": "e312b8bd",
   "metadata": {
    "execution": {
     "iopub.execute_input": "2024-05-24T06:46:01.772614Z",
     "iopub.status.busy": "2024-05-24T06:46:01.771974Z",
     "iopub.status.idle": "2024-05-24T06:46:01.777049Z",
     "shell.execute_reply": "2024-05-24T06:46:01.776210Z"
    },
    "papermill": {
     "duration": 0.017304,
     "end_time": "2024-05-24T06:46:01.779642",
     "exception": false,
     "start_time": "2024-05-24T06:46:01.762338",
     "status": "completed"
    },
    "tags": []
   },
   "outputs": [
    {
     "name": "stdout",
     "output_type": "stream",
     "text": [
      " ones(shape, dtype=None, order='C', *, like=None)\n",
      "\n",
      "Return a new array of given shape and type, filled with ones.\n",
      "\n",
      "Parameters\n",
      "----------\n",
      "shape : int or sequence of ints\n",
      "    Shape of the new array, e.g., ``(2, 3)`` or ``2``.\n",
      "dtype : data-type, optional\n",
      "    The desired data-type for the array, e.g., `numpy.int8`.  Default is\n",
      "    `numpy.float64`.\n",
      "order : {'C', 'F'}, optional, default: C\n",
      "    Whether to store multi-dimensional data in row-major\n",
      "    (C-style) or column-major (Fortran-style) order in\n",
      "    memory.\n",
      "like : array_like, optional\n",
      "    Reference object to allow the creation of arrays which are not\n",
      "    NumPy arrays. If an array-like passed in as ``like`` supports\n",
      "    the ``__array_function__`` protocol, the result will be defined\n",
      "    by it. In this case, it ensures the creation of an array object\n",
      "    compatible with that passed in via this argument.\n",
      "\n",
      "    .. versionadded:: 1.20.0\n",
      "\n",
      "Returns\n",
      "-------\n",
      "out : ndarray\n",
      "    Array of ones with the given shape, dtype, and order.\n",
      "\n",
      "See Also\n",
      "--------\n",
      "ones_like : Return an array of ones with shape and type of input.\n",
      "empty : Return a new uninitialized array.\n",
      "zeros : Return a new array setting values to zero.\n",
      "full : Return a new array of given shape filled with value.\n",
      "\n",
      "\n",
      "Examples\n",
      "--------\n",
      ">>> np.ones(5)\n",
      "array([1., 1., 1., 1., 1.])\n",
      "\n",
      ">>> np.ones((5,), dtype=int)\n",
      "array([1, 1, 1, 1, 1])\n",
      "\n",
      ">>> np.ones((2, 1))\n",
      "array([[1.],\n",
      "       [1.]])\n",
      "\n",
      ">>> s = (2,2)\n",
      ">>> np.ones(s)\n",
      "array([[1.,  1.],\n",
      "       [1.,  1.]])\n"
     ]
    }
   ],
   "source": [
    "np.info(np.ones)"
   ]
  },
  {
   "cell_type": "code",
   "execution_count": 9,
   "id": "8a377659",
   "metadata": {
    "execution": {
     "iopub.execute_input": "2024-05-24T06:46:01.799058Z",
     "iopub.status.busy": "2024-05-24T06:46:01.798522Z",
     "iopub.status.idle": "2024-05-24T06:46:01.803832Z",
     "shell.execute_reply": "2024-05-24T06:46:01.802837Z"
    },
    "papermill": {
     "duration": 0.017534,
     "end_time": "2024-05-24T06:46:01.806119",
     "exception": false,
     "start_time": "2024-05-24T06:46:01.788585",
     "status": "completed"
    },
    "tags": []
   },
   "outputs": [
    {
     "name": "stdout",
     "output_type": "stream",
     "text": [
      "class:  ndarray\n",
      "shape:  (5,)\n",
      "strides:  (8,)\n",
      "itemsize:  8\n",
      "aligned:  True\n",
      "contiguous:  True\n",
      "fortran:  True\n",
      "data pointer: 0x5b6cb479a1e0\n",
      "byteorder:  little\n",
      "byteswap:  False\n",
      "type: int64\n"
     ]
    }
   ],
   "source": [
    "np.info(np.arange(5))"
   ]
  },
  {
   "cell_type": "code",
   "execution_count": 10,
   "id": "7ba562e4",
   "metadata": {
    "execution": {
     "iopub.execute_input": "2024-05-24T06:46:01.825717Z",
     "iopub.status.busy": "2024-05-24T06:46:01.825414Z",
     "iopub.status.idle": "2024-05-24T06:46:01.832054Z",
     "shell.execute_reply": "2024-05-24T06:46:01.831119Z"
    },
    "papermill": {
     "duration": 0.018883,
     "end_time": "2024-05-24T06:46:01.834306",
     "exception": false,
     "start_time": "2024-05-24T06:46:01.815423",
     "status": "completed"
    },
    "tags": []
   },
   "outputs": [
    {
     "data": {
      "text/plain": [
       "array([37,  3, 58, 95, 81])"
      ]
     },
     "execution_count": 10,
     "metadata": {},
     "output_type": "execute_result"
    }
   ],
   "source": [
    "g=np.random.randint(1,100,5)\n",
    "g"
   ]
  },
  {
   "cell_type": "code",
   "execution_count": 11,
   "id": "cebdb8c3",
   "metadata": {
    "execution": {
     "iopub.execute_input": "2024-05-24T06:46:01.855083Z",
     "iopub.status.busy": "2024-05-24T06:46:01.854382Z",
     "iopub.status.idle": "2024-05-24T06:46:01.862293Z",
     "shell.execute_reply": "2024-05-24T06:46:01.861356Z"
    },
    "papermill": {
     "duration": 0.019951,
     "end_time": "2024-05-24T06:46:01.864371",
     "exception": false,
     "start_time": "2024-05-24T06:46:01.844420",
     "status": "completed"
    },
    "tags": []
   },
   "outputs": [
    {
     "data": {
      "text/plain": [
       "array([ 3, 37, 58, 81, 95])"
      ]
     },
     "execution_count": 11,
     "metadata": {},
     "output_type": "execute_result"
    }
   ],
   "source": [
    "h=np.sort(g)\n",
    "h"
   ]
  },
  {
   "cell_type": "code",
   "execution_count": 12,
   "id": "b5a9ef83",
   "metadata": {
    "execution": {
     "iopub.execute_input": "2024-05-24T06:46:01.885278Z",
     "iopub.status.busy": "2024-05-24T06:46:01.884667Z",
     "iopub.status.idle": "2024-05-24T06:46:01.891029Z",
     "shell.execute_reply": "2024-05-24T06:46:01.890111Z"
    },
    "papermill": {
     "duration": 0.019169,
     "end_time": "2024-05-24T06:46:01.893414",
     "exception": false,
     "start_time": "2024-05-24T06:46:01.874245",
     "status": "completed"
    },
    "tags": []
   },
   "outputs": [
    {
     "data": {
      "text/plain": [
       "array([[1., 0., 0., 0.],\n",
       "       [0., 1., 0., 0.],\n",
       "       [0., 0., 1., 0.],\n",
       "       [0., 0., 0., 1.]])"
      ]
     },
     "execution_count": 12,
     "metadata": {},
     "output_type": "execute_result"
    }
   ],
   "source": [
    "#here we will  a eye matrix\n",
    "i=np.eye(4)\n",
    "i"
   ]
  },
  {
   "cell_type": "code",
   "execution_count": 13,
   "id": "7fbfd031",
   "metadata": {
    "execution": {
     "iopub.execute_input": "2024-05-24T06:46:01.914297Z",
     "iopub.status.busy": "2024-05-24T06:46:01.913951Z",
     "iopub.status.idle": "2024-05-24T06:46:01.920121Z",
     "shell.execute_reply": "2024-05-24T06:46:01.919096Z"
    },
    "papermill": {
     "duration": 0.01914,
     "end_time": "2024-05-24T06:46:01.922563",
     "exception": false,
     "start_time": "2024-05-24T06:46:01.903423",
     "status": "completed"
    },
    "tags": []
   },
   "outputs": [
    {
     "name": "stdout",
     "output_type": "stream",
     "text": [
      "[[76 34 63 37]\n",
      " [15 85 92 85]\n",
      " [85 13 74 74]]\n",
      "[[76 15 85]\n",
      " [34 85 13]\n",
      " [63 92 74]\n",
      " [37 85 74]]\n"
     ]
    }
   ],
   "source": [
    "j=np.random.randint(1,100,12).reshape(3,4)\n",
    "print(j)\n",
    "print(j.T)  #The Trans (T)  will (row  becomes columns vice versa)"
   ]
  },
  {
   "cell_type": "code",
   "execution_count": 14,
   "id": "f48bb6d2",
   "metadata": {
    "execution": {
     "iopub.execute_input": "2024-05-24T06:46:01.943580Z",
     "iopub.status.busy": "2024-05-24T06:46:01.943268Z",
     "iopub.status.idle": "2024-05-24T06:46:01.947934Z",
     "shell.execute_reply": "2024-05-24T06:46:01.947013Z"
    },
    "papermill": {
     "duration": 0.017433,
     "end_time": "2024-05-24T06:46:01.950101",
     "exception": false,
     "start_time": "2024-05-24T06:46:01.932668",
     "status": "completed"
    },
    "tags": []
   },
   "outputs": [],
   "source": [
    "np.save('Numpy',j)\n",
    "#it will stores in '/kaggle/workin/'"
   ]
  },
  {
   "cell_type": "code",
   "execution_count": 15,
   "id": "4457fe96",
   "metadata": {
    "execution": {
     "iopub.execute_input": "2024-05-24T06:46:01.971533Z",
     "iopub.status.busy": "2024-05-24T06:46:01.970881Z",
     "iopub.status.idle": "2024-05-24T06:46:01.977937Z",
     "shell.execute_reply": "2024-05-24T06:46:01.976955Z"
    },
    "papermill": {
     "duration": 0.020103,
     "end_time": "2024-05-24T06:46:01.980087",
     "exception": false,
     "start_time": "2024-05-24T06:46:01.959984",
     "status": "completed"
    },
    "tags": []
   },
   "outputs": [
    {
     "data": {
      "text/plain": [
       "array([[76, 34, 63, 37],\n",
       "       [15, 85, 92, 85],\n",
       "       [85, 13, 74, 74]])"
      ]
     },
     "execution_count": 15,
     "metadata": {},
     "output_type": "execute_result"
    }
   ],
   "source": [
    "np.load('Numpy.npy')"
   ]
  },
  {
   "cell_type": "code",
   "execution_count": 16,
   "id": "cac42e67",
   "metadata": {
    "execution": {
     "iopub.execute_input": "2024-05-24T06:46:02.000779Z",
     "iopub.status.busy": "2024-05-24T06:46:02.000454Z",
     "iopub.status.idle": "2024-05-24T06:46:02.009814Z",
     "shell.execute_reply": "2024-05-24T06:46:02.008935Z"
    },
    "papermill": {
     "duration": 0.02283,
     "end_time": "2024-05-24T06:46:02.012378",
     "exception": false,
     "start_time": "2024-05-24T06:46:01.989548",
     "status": "completed"
    },
    "tags": []
   },
   "outputs": [
    {
     "name": "stdout",
     "output_type": "stream",
     "text": [
      "[  2   3   4   5   6   7   8   9  10  11  12  13  14  15  16  17  18  19\n",
      "  20  21  22  23  24  25  26  27  28  29  30  31  32  33  34  35  36  37\n",
      "  38  39  40  41  42  43  44  45  46  47  48  49  50  51  52  53  54  55\n",
      "  56  57  58  59  60  61  62  63  64  65  66  67  68  69  70  71  72  73\n",
      "  74  75  76  77  78  79  80  81  82  83  84  85  86  87  88  89  90  91\n",
      "  92  93  94  95  96  97  98  99 100 101 102 103 104 105 106 107 108 109\n",
      " 110 111 112 113 114 115 116 117 118 119 120 121 122 123 124 125 126 127\n",
      " 128 129 130 131 132 133 134 135 136 137 138 139 140 141 142 143 144 145\n",
      " 146 147 148 149 150 151 152 153 154 155 156 157 158 159 160 161 162 163\n",
      " 164 165 166 167 168 169 170 171 172 173 174 175 176 177 178 179 180 181\n",
      " 182 183 184 185 186 187 188 189 190 191 192 193 194 195 196 197 198 199\n",
      " 200 201 202 203 204 205 206 207 208 209 210 211 212 213 214 215 216 217\n",
      " 218 219 220 221 222 223 224 225 226 227 228 229 230 231 232 233 234 235\n",
      " 236 237 238 239 240 241 242 243 244 245 246 247 248 249 250 251 252 253\n",
      " 254 255 256 257 258 259 260 261 262 263 264 265 266 267 268 269 270 271\n",
      " 272 273 274 275 276 277 278 279 280 281 282 283 284 285 286 287 288 289\n",
      " 290 291 292 293 294 295 296 297 298 299 300 301 302 303 304 305 306 307\n",
      " 308 309 310 311 312 313 314 315 316 317 318 319 320 321 322 323 324 325\n",
      " 326 327 328 329 330 331 332 333 334 335 336 337 338 339 340 341 342 343\n",
      " 344 345 346 347 348 349 350 351 352 353 354 355 356 357 358 359 360 361\n",
      " 362 363 364 365 366 367 368 369 370 371 372 373 374 375 376 377 378 379\n",
      " 380 381 382 383 384 385 386 387 388 389 390 391 392 393 394 395 396 397\n",
      " 398 399 400 401 402 403 404 405 406 407 408 409 410 411 412 413 414 415\n",
      " 416 417 418 419 420 421 422 423 424 425 426 427 428 429 430 431 432 433\n",
      " 434 435 436 437 438 439 440 441 442 443 444 445 446 447 448 449 450 451\n",
      " 452 453 454 455 456 457 458 459 460 461 462 463 464 465 466 467 468 469\n",
      " 470 471 472 473 474 475 476 477 478 479 480 481 482 483 484 485 486 487\n",
      " 488 489 490 491 492 493 494 495 496 497 498 499 500 501 502 503 504 505\n",
      " 506 507 508 509 510 511 512 513 514 515 516 517 518 519 520 521 522 523\n",
      " 524 525 526 527 528 529 530 531 532 533 534 535 536 537 538 539 540 541\n",
      " 542 543 544 545 546 547 548 549 550 551 552 553 554 555 556 557 558 559\n",
      " 560 561 562 563 564 565 566 567 568 569 570 571 572 573 574 575 576 577\n",
      " 578 579 580 581 582 583 584 585 586 587 588 589 590 591 592 593 594 595\n",
      " 596 597 598 599 600 601 602 603 604 605 606 607 608 609 610 611 612 613\n",
      " 614 615 616 617 618 619 620 621 622 623 624 625 626 627 628 629 630 631\n",
      " 632 633 634 635 636 637 638 639 640 641 642 643 644 645 646 647 648 649\n",
      " 650 651 652 653 654 655 656 657 658 659 660 661 662 663 664 665 666 667\n",
      " 668 669 670 671 672 673 674 675 676 677 678 679 680 681 682 683 684 685\n",
      " 686 687 688 689 690 691 692 693 694 695 696 697 698 699 700 701 702 703\n",
      " 704 705 706 707 708 709 710 711 712 713 714 715 716 717 718 719 720 721\n",
      " 722 723 724 725 726 727 728 729 730 731 732 733 734 735 736 737 738 739\n",
      " 740 741 742 743 744 745 746 747 748 749 750 751 752 753 754 755 756 757\n",
      " 758 759 760 761 762 763 764 765 766 767 768 769 770 771 772 773 774 775\n",
      " 776 777 778 779 780 781 782 783 784 785 786 787 788 789 790 791 792 793\n",
      " 794 795 796 797 798 799 800 801 802 803 804 805 806 807 808 809 810 811\n",
      " 812 813 814 815 816 817 818 819 820 821 822 823 824 825 826 827 828 829\n",
      " 830 831 832 833 834 835 836 837 838 839 840 841 842 843 844 845 846 847\n",
      " 848 849 850 851 852 853 854 855 856 857 858 859 860 861 862 863 864 865\n",
      " 866 867 868 869 870 871 872 873 874 875 876 877 878 879 880 881 882 883\n",
      " 884 885 886 887 888 889 890 891 892 893 894 895 896 897 898 899 900 901\n",
      " 902 903 904 905 906 907 908 909 910 911 912 913 914 915 916 917 918 919\n",
      " 920 921 922 923 924 925 926 927 928 929 930 931 932 933 934 935 936 937\n",
      " 938 939 940 941 942 943 944 945 946 947 948 949 950 951 952 953 954 955\n",
      " 956 957 958 959 960 961 962 963 964 965 966 967 968 969 970 971 972 973\n",
      " 974 975 976 977 978 979 980 981 982 983 984 985 986 987 988 989 990 991\n",
      " 992 993 994 995 996 997 998 999]\n",
      "size is : 998\n"
     ]
    }
   ],
   "source": [
    "import numpy as np\n",
    "k=np.arange(2,1000,1)\n",
    "print(k)\n",
    "print(\"size is :\",np.size(k))"
   ]
  },
  {
   "cell_type": "code",
   "execution_count": 17,
   "id": "4a8acc9a",
   "metadata": {
    "execution": {
     "iopub.execute_input": "2024-05-24T06:46:02.033881Z",
     "iopub.status.busy": "2024-05-24T06:46:02.033558Z",
     "iopub.status.idle": "2024-05-24T06:46:02.037905Z",
     "shell.execute_reply": "2024-05-24T06:46:02.036999Z"
    },
    "papermill": {
     "duration": 0.017468,
     "end_time": "2024-05-24T06:46:02.040125",
     "exception": false,
     "start_time": "2024-05-24T06:46:02.022657",
     "status": "completed"
    },
    "tags": []
   },
   "outputs": [],
   "source": [
    "#While Reshapeing the numpy array  dimension must be multyply of total elements \n",
    "import numpy as np"
   ]
  },
  {
   "cell_type": "code",
   "execution_count": 18,
   "id": "65522f44",
   "metadata": {
    "execution": {
     "iopub.execute_input": "2024-05-24T06:46:02.062647Z",
     "iopub.status.busy": "2024-05-24T06:46:02.062309Z",
     "iopub.status.idle": "2024-05-24T06:46:02.068902Z",
     "shell.execute_reply": "2024-05-24T06:46:02.067949Z"
    },
    "papermill": {
     "duration": 0.020815,
     "end_time": "2024-05-24T06:46:02.071213",
     "exception": false,
     "start_time": "2024-05-24T06:46:02.050398",
     "status": "completed"
    },
    "tags": []
   },
   "outputs": [
    {
     "data": {
      "text/plain": [
       "array([ 1,  2,  3,  4,  5,  6,  7,  8,  9, 10, 11, 12])"
      ]
     },
     "execution_count": 18,
     "metadata": {},
     "output_type": "execute_result"
    }
   ],
   "source": [
    "l = np.arange(1,13,1)\n",
    "l"
   ]
  },
  {
   "cell_type": "code",
   "execution_count": 19,
   "id": "89c45c9b",
   "metadata": {
    "execution": {
     "iopub.execute_input": "2024-05-24T06:46:02.094021Z",
     "iopub.status.busy": "2024-05-24T06:46:02.093126Z",
     "iopub.status.idle": "2024-05-24T06:46:02.100217Z",
     "shell.execute_reply": "2024-05-24T06:46:02.099279Z"
    },
    "papermill": {
     "duration": 0.020829,
     "end_time": "2024-05-24T06:46:02.102488",
     "exception": false,
     "start_time": "2024-05-24T06:46:02.081659",
     "status": "completed"
    },
    "tags": []
   },
   "outputs": [
    {
     "data": {
      "text/plain": [
       "array([[ 1,  2,  3,  4],\n",
       "       [ 5,  6,  7,  8],\n",
       "       [ 9, 10, 11, 12]])"
      ]
     },
     "execution_count": 19,
     "metadata": {},
     "output_type": "execute_result"
    }
   ],
   "source": [
    "#Reshape the  above array to 2 dimension\n",
    "m =l.reshape(3,4)\n",
    "m"
   ]
  },
  {
   "cell_type": "code",
   "execution_count": 20,
   "id": "21531edf",
   "metadata": {
    "execution": {
     "iopub.execute_input": "2024-05-24T06:46:02.125794Z",
     "iopub.status.busy": "2024-05-24T06:46:02.124871Z",
     "iopub.status.idle": "2024-05-24T06:46:02.131001Z",
     "shell.execute_reply": "2024-05-24T06:46:02.130055Z"
    },
    "papermill": {
     "duration": 0.019762,
     "end_time": "2024-05-24T06:46:02.133200",
     "exception": false,
     "start_time": "2024-05-24T06:46:02.113438",
     "status": "completed"
    },
    "tags": []
   },
   "outputs": [
    {
     "data": {
      "text/plain": [
       "2"
      ]
     },
     "execution_count": 20,
     "metadata": {},
     "output_type": "execute_result"
    }
   ],
   "source": [
    "m.ndim"
   ]
  },
  {
   "cell_type": "code",
   "execution_count": 21,
   "id": "bfde75f3",
   "metadata": {
    "execution": {
     "iopub.execute_input": "2024-05-24T06:46:02.155737Z",
     "iopub.status.busy": "2024-05-24T06:46:02.155023Z",
     "iopub.status.idle": "2024-05-24T06:46:02.162393Z",
     "shell.execute_reply": "2024-05-24T06:46:02.161433Z"
    },
    "papermill": {
     "duration": 0.022492,
     "end_time": "2024-05-24T06:46:02.165913",
     "exception": false,
     "start_time": "2024-05-24T06:46:02.143421",
     "status": "completed"
    },
    "tags": []
   },
   "outputs": [
    {
     "name": "stdout",
     "output_type": "stream",
     "text": [
      "[[ 1  2  3  4]\n",
      " [ 5  6  7  8]\n",
      " [ 9 10 11 12]]\n"
     ]
    },
    {
     "data": {
      "text/plain": [
       "array([ 1,  2,  3,  4,  5,  6,  7,  8,  9, 10, 11, 12])"
      ]
     },
     "execution_count": 21,
     "metadata": {},
     "output_type": "execute_result"
    }
   ],
   "source": [
    "#To  convert the multy dimensional  arary to 1-D  array\n",
    "print(m)\n",
    "n =m.reshape(-1)    # -1 will converty it to 1 -D array \n",
    "n\n"
   ]
  },
  {
   "cell_type": "code",
   "execution_count": 22,
   "id": "bdf8a89a",
   "metadata": {
    "execution": {
     "iopub.execute_input": "2024-05-24T06:46:02.190282Z",
     "iopub.status.busy": "2024-05-24T06:46:02.189474Z",
     "iopub.status.idle": "2024-05-24T06:46:02.194489Z",
     "shell.execute_reply": "2024-05-24T06:46:02.193591Z"
    },
    "papermill": {
     "duration": 0.019046,
     "end_time": "2024-05-24T06:46:02.196796",
     "exception": false,
     "start_time": "2024-05-24T06:46:02.177750",
     "status": "completed"
    },
    "tags": []
   },
   "outputs": [
    {
     "name": "stdout",
     "output_type": "stream",
     "text": [
      "1\n",
      "2\n",
      "3\n",
      "4\n",
      "5\n",
      "6\n",
      "7\n",
      "8\n",
      "9\n",
      "10\n",
      "11\n",
      "12\n"
     ]
    }
   ],
   "source": [
    "for x in n:\n",
    "    print(x)"
   ]
  },
  {
   "cell_type": "code",
   "execution_count": 23,
   "id": "45f160f9",
   "metadata": {
    "execution": {
     "iopub.execute_input": "2024-05-24T06:46:02.219626Z",
     "iopub.status.busy": "2024-05-24T06:46:02.219300Z",
     "iopub.status.idle": "2024-05-24T06:46:02.226274Z",
     "shell.execute_reply": "2024-05-24T06:46:02.225301Z"
    },
    "papermill": {
     "duration": 0.021138,
     "end_time": "2024-05-24T06:46:02.228699",
     "exception": false,
     "start_time": "2024-05-24T06:46:02.207561",
     "status": "completed"
    },
    "tags": []
   },
   "outputs": [
    {
     "data": {
      "text/plain": [
       "array([[[ 1],\n",
       "        [ 2],\n",
       "        [ 3]],\n",
       "\n",
       "       [[ 4],\n",
       "        [ 5],\n",
       "        [ 6]],\n",
       "\n",
       "       [[ 7],\n",
       "        [ 8],\n",
       "        [ 9]],\n",
       "\n",
       "       [[10],\n",
       "        [11],\n",
       "        [12]]])"
      ]
     },
     "execution_count": 23,
     "metadata": {},
     "output_type": "execute_result"
    }
   ],
   "source": [
    "o = np.arange(1,13,1,dtype=int).reshape(4,3,-1)\n",
    "o\n",
    "# for y in np.nditer(o):\n",
    "#     print(y)"
   ]
  },
  {
   "cell_type": "code",
   "execution_count": 24,
   "id": "aad5da76",
   "metadata": {
    "execution": {
     "iopub.execute_input": "2024-05-24T06:46:02.253123Z",
     "iopub.status.busy": "2024-05-24T06:46:02.252322Z",
     "iopub.status.idle": "2024-05-24T06:46:02.259408Z",
     "shell.execute_reply": "2024-05-24T06:46:02.258293Z"
    },
    "papermill": {
     "duration": 0.021082,
     "end_time": "2024-05-24T06:46:02.261685",
     "exception": false,
     "start_time": "2024-05-24T06:46:02.240603",
     "status": "completed"
    },
    "tags": []
   },
   "outputs": [
    {
     "name": "stdout",
     "output_type": "stream",
     "text": [
      "[1 2 3 4 5 6]\n",
      "[[1 2 3]\n",
      " [4 5 6]]\n"
     ]
    }
   ],
   "source": [
    "import numpy as np\n",
    "arr =np.array([1,2,3])\n",
    "arr1 =np.array([4,5,6])\n",
    "hfinal =np.hstack((arr ,arr1)) #will add  the array in hor\n",
    "vfinal =np.vstack((arr,arr1)) #will add  the array in ver\n",
    "\n",
    "print(hfinal)\n",
    "print(vfinal)\n"
   ]
  },
  {
   "cell_type": "code",
   "execution_count": 25,
   "id": "b2acc77f",
   "metadata": {
    "execution": {
     "iopub.execute_input": "2024-05-24T06:46:02.285682Z",
     "iopub.status.busy": "2024-05-24T06:46:02.285363Z",
     "iopub.status.idle": "2024-05-24T06:46:02.292687Z",
     "shell.execute_reply": "2024-05-24T06:46:02.291682Z"
    },
    "papermill": {
     "duration": 0.021269,
     "end_time": "2024-05-24T06:46:02.294816",
     "exception": false,
     "start_time": "2024-05-24T06:46:02.273547",
     "status": "completed"
    },
    "tags": []
   },
   "outputs": [
    {
     "data": {
      "text/plain": [
       "array([[[1, 4],\n",
       "        [2, 5],\n",
       "        [3, 6]]])"
      ]
     },
     "execution_count": 25,
     "metadata": {},
     "output_type": "execute_result"
    }
   ],
   "source": [
    "p =np.array([1,2,3])\n",
    "p1=np.array([4,5,6])\n",
    "p22 =np.dstack((p,p1)) \n",
    "p22"
   ]
  },
  {
   "cell_type": "code",
   "execution_count": null,
   "id": "d3d0c366",
   "metadata": {
    "papermill": {
     "duration": 0.010859,
     "end_time": "2024-05-24T06:46:02.316801",
     "exception": false,
     "start_time": "2024-05-24T06:46:02.305942",
     "status": "completed"
    },
    "tags": []
   },
   "outputs": [],
   "source": []
  }
 ],
 "metadata": {
  "kaggle": {
   "accelerator": "none",
   "dataSources": [],
   "dockerImageVersionId": 30698,
   "isGpuEnabled": false,
   "isInternetEnabled": true,
   "language": "python",
   "sourceType": "notebook"
  },
  "kernelspec": {
   "display_name": "Python 3",
   "language": "python",
   "name": "python3"
  },
  "language_info": {
   "codemirror_mode": {
    "name": "ipython",
    "version": 3
   },
   "file_extension": ".py",
   "mimetype": "text/x-python",
   "name": "python",
   "nbconvert_exporter": "python",
   "pygments_lexer": "ipython3",
   "version": "3.10.13"
  },
  "papermill": {
   "default_parameters": {},
   "duration": 5.035177,
   "end_time": "2024-05-24T06:46:02.746573",
   "environment_variables": {},
   "exception": null,
   "input_path": "__notebook__.ipynb",
   "output_path": "__notebook__.ipynb",
   "parameters": {},
   "start_time": "2024-05-24T06:45:57.711396",
   "version": "2.5.0"
  }
 },
 "nbformat": 4,
 "nbformat_minor": 5
}
